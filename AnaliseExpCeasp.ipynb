{
 "cells": [
  {
   "cell_type": "markdown",
   "id": "ff05f5bd",
   "metadata": {},
   "source": [
    "## 7 DaysofCode\n",
    "\n",
    "1/7:\n",
    "- Download do dataset CEAPS: https://www12.senado.leg.br/dados-abertos/conjuntos?portal=Administrativo&grupo=senadores\n",
    "- Data Wragling"
   ]
  },
  {
   "cell_type": "code",
   "execution_count": 136,
   "id": "a3c5bf94",
   "metadata": {},
   "outputs": [],
   "source": [
    "import pandas as pd\n",
    "import numpy as np\n",
    "import plotly.express as px\n",
    "import matplotlib.pyplot as plt\n",
    "import streamlit as st"
   ]
  },
  {
   "cell_type": "code",
   "execution_count": 5,
   "id": "8e8f6877",
   "metadata": {},
   "outputs": [
    {
     "data": {
      "text/html": [
       "<div>\n",
       "<style scoped>\n",
       "    .dataframe tbody tr th:only-of-type {\n",
       "        vertical-align: middle;\n",
       "    }\n",
       "\n",
       "    .dataframe tbody tr th {\n",
       "        vertical-align: top;\n",
       "    }\n",
       "\n",
       "    .dataframe thead th {\n",
       "        text-align: right;\n",
       "    }\n",
       "</style>\n",
       "<table border=\"1\" class=\"dataframe\">\n",
       "  <thead>\n",
       "    <tr style=\"text-align: right;\">\n",
       "      <th></th>\n",
       "      <th>ULTIMA ATUALIZACAO</th>\n",
       "      <th>17/07/2023 02:01</th>\n",
       "      <th>Unnamed: 2</th>\n",
       "      <th>Unnamed: 3</th>\n",
       "      <th>Unnamed: 4</th>\n",
       "      <th>Unnamed: 5</th>\n",
       "      <th>Unnamed: 6</th>\n",
       "      <th>Unnamed: 7</th>\n",
       "      <th>Unnamed: 8</th>\n",
       "      <th>Unnamed: 9</th>\n",
       "      <th>Unnamed: 10</th>\n",
       "    </tr>\n",
       "  </thead>\n",
       "  <tbody>\n",
       "    <tr>\n",
       "      <th>0</th>\n",
       "      <td>ANO</td>\n",
       "      <td>MES</td>\n",
       "      <td>SENADOR</td>\n",
       "      <td>TIPO_DESPESA</td>\n",
       "      <td>CNPJ_CPF</td>\n",
       "      <td>FORNECEDOR</td>\n",
       "      <td>DOCUMENTO</td>\n",
       "      <td>DATA</td>\n",
       "      <td>DETALHAMENTO</td>\n",
       "      <td>VALOR_REEMBOLSADO</td>\n",
       "      <td>COD_DOCUMENTO</td>\n",
       "    </tr>\n",
       "    <tr>\n",
       "      <th>1</th>\n",
       "      <td>2022</td>\n",
       "      <td>1</td>\n",
       "      <td>ACIR GURGACZ</td>\n",
       "      <td>Aluguel de imóveis para escritório político, c...</td>\n",
       "      <td>004.948.028-63</td>\n",
       "      <td>GILBERTO PISELO DO NASCIMENTO</td>\n",
       "      <td>001/22</td>\n",
       "      <td>03/01/2022</td>\n",
       "      <td>Despesa com pagamento de aluguel de imóvel par...</td>\n",
       "      <td>6000</td>\n",
       "      <td>2173614</td>\n",
       "    </tr>\n",
       "    <tr>\n",
       "      <th>2</th>\n",
       "      <td>2022</td>\n",
       "      <td>1</td>\n",
       "      <td>ACIR GURGACZ</td>\n",
       "      <td>Divulgação da atividade parlamentar</td>\n",
       "      <td>26.320.603/0001-64</td>\n",
       "      <td>INFORMANAHORA</td>\n",
       "      <td>000000000000310/A</td>\n",
       "      <td>04/01/2022</td>\n",
       "      <td>Despesa com divulgação da atividade parlamenta...</td>\n",
       "      <td>1500</td>\n",
       "      <td>2173615</td>\n",
       "    </tr>\n",
       "    <tr>\n",
       "      <th>3</th>\n",
       "      <td>2022</td>\n",
       "      <td>1</td>\n",
       "      <td>ACIR GURGACZ</td>\n",
       "      <td>Divulgação da atividade parlamentar</td>\n",
       "      <td>13.659.201/0001-47</td>\n",
       "      <td>LINHA PURPURA FOTO E VIDEO LTDA</td>\n",
       "      <td>107</td>\n",
       "      <td>14/01/2022</td>\n",
       "      <td>Despesa com produção de texto e edição de víde...</td>\n",
       "      <td>6000</td>\n",
       "      <td>2173616</td>\n",
       "    </tr>\n",
       "    <tr>\n",
       "      <th>4</th>\n",
       "      <td>2022</td>\n",
       "      <td>1</td>\n",
       "      <td>ACIR GURGACZ</td>\n",
       "      <td>Divulgação da atividade parlamentar</td>\n",
       "      <td>23.652.846/0001-01</td>\n",
       "      <td>ROBERTO GUTIERREZ DA ROCHA M.E.I.</td>\n",
       "      <td>187</td>\n",
       "      <td>18/01/2022</td>\n",
       "      <td>Divulgação da atividade parlamentar</td>\n",
       "      <td>1000</td>\n",
       "      <td>2173618</td>\n",
       "    </tr>\n",
       "  </tbody>\n",
       "</table>\n",
       "</div>"
      ],
      "text/plain": [
       "  ULTIMA ATUALIZACAO 17/07/2023 02:01    Unnamed: 2  \\\n",
       "0                ANO              MES       SENADOR   \n",
       "1               2022                1  ACIR GURGACZ   \n",
       "2               2022                1  ACIR GURGACZ   \n",
       "3               2022                1  ACIR GURGACZ   \n",
       "4               2022                1  ACIR GURGACZ   \n",
       "\n",
       "                                          Unnamed: 3          Unnamed: 4  \\\n",
       "0                                       TIPO_DESPESA            CNPJ_CPF   \n",
       "1  Aluguel de imóveis para escritório político, c...      004.948.028-63   \n",
       "2                Divulgação da atividade parlamentar  26.320.603/0001-64   \n",
       "3                Divulgação da atividade parlamentar  13.659.201/0001-47   \n",
       "4                Divulgação da atividade parlamentar  23.652.846/0001-01   \n",
       "\n",
       "                          Unnamed: 5         Unnamed: 6  Unnamed: 7  \\\n",
       "0                         FORNECEDOR          DOCUMENTO        DATA   \n",
       "1      GILBERTO PISELO DO NASCIMENTO             001/22  03/01/2022   \n",
       "2                      INFORMANAHORA  000000000000310/A  04/01/2022   \n",
       "3    LINHA PURPURA FOTO E VIDEO LTDA                107  14/01/2022   \n",
       "4  ROBERTO GUTIERREZ DA ROCHA M.E.I.                187  18/01/2022   \n",
       "\n",
       "                                          Unnamed: 8         Unnamed: 9  \\\n",
       "0                                       DETALHAMENTO  VALOR_REEMBOLSADO   \n",
       "1  Despesa com pagamento de aluguel de imóvel par...               6000   \n",
       "2  Despesa com divulgação da atividade parlamenta...               1500   \n",
       "3  Despesa com produção de texto e edição de víde...               6000   \n",
       "4                Divulgação da atividade parlamentar               1000   \n",
       "\n",
       "     Unnamed: 10  \n",
       "0  COD_DOCUMENTO  \n",
       "1        2173614  \n",
       "2        2173615  \n",
       "3        2173616  \n",
       "4        2173618  "
      ]
     },
     "metadata": {},
     "output_type": "display_data"
    }
   ],
   "source": [
    "df = pd.read_csv('despesa_ceaps_2022 (1).csv', sep=';')\n",
    "display(df.head(5))"
   ]
  },
  {
   "cell_type": "markdown",
   "id": "3a69d374",
   "metadata": {},
   "source": [
    "### Data Wrangling"
   ]
  },
  {
   "cell_type": "code",
   "execution_count": 6,
   "id": "06a079b3",
   "metadata": {},
   "outputs": [],
   "source": [
    "# Definir a primeira linha como cabeçalho\n",
    "df.columns = df.iloc[0]\n",
    "\n",
    "# Excluir a primeira linha duplicada\n",
    "df = df[1:]"
   ]
  },
  {
   "cell_type": "code",
   "execution_count": 7,
   "id": "33dadc8b",
   "metadata": {},
   "outputs": [
    {
     "data": {
      "text/html": [
       "<div>\n",
       "<style scoped>\n",
       "    .dataframe tbody tr th:only-of-type {\n",
       "        vertical-align: middle;\n",
       "    }\n",
       "\n",
       "    .dataframe tbody tr th {\n",
       "        vertical-align: top;\n",
       "    }\n",
       "\n",
       "    .dataframe thead th {\n",
       "        text-align: right;\n",
       "    }\n",
       "</style>\n",
       "<table border=\"1\" class=\"dataframe\">\n",
       "  <thead>\n",
       "    <tr style=\"text-align: right;\">\n",
       "      <th></th>\n",
       "      <th>ANO</th>\n",
       "      <th>MES</th>\n",
       "      <th>SENADOR</th>\n",
       "      <th>TIPO_DESPESA</th>\n",
       "      <th>CNPJ_CPF</th>\n",
       "      <th>FORNECEDOR</th>\n",
       "      <th>DOCUMENTO</th>\n",
       "      <th>DATA</th>\n",
       "      <th>DETALHAMENTO</th>\n",
       "      <th>VALOR_REEMBOLSADO</th>\n",
       "      <th>COD_DOCUMENTO</th>\n",
       "    </tr>\n",
       "  </thead>\n",
       "  <tbody>\n",
       "    <tr>\n",
       "      <th>13296</th>\n",
       "      <td>2022</td>\n",
       "      <td>6</td>\n",
       "      <td>RANDOLFE RODRIGUES</td>\n",
       "      <td>Aluguel de imóveis para escritório político, c...</td>\n",
       "      <td>07.656.757/0001-87</td>\n",
       "      <td>Você Telecom</td>\n",
       "      <td>1789923</td>\n",
       "      <td>20/06/2022</td>\n",
       "      <td>Internet</td>\n",
       "      <td>279,89</td>\n",
       "      <td>2184000</td>\n",
       "    </tr>\n",
       "    <tr>\n",
       "      <th>3911</th>\n",
       "      <td>2022</td>\n",
       "      <td>6</td>\n",
       "      <td>ESPERIDIÃO AMIN</td>\n",
       "      <td>Aluguel de imóveis para escritório político, c...</td>\n",
       "      <td>81.853.798/0001-16</td>\n",
       "      <td>Regis Comércio e Serviços Hidraulicos Ltda</td>\n",
       "      <td>17964</td>\n",
       "      <td>27/06/2022</td>\n",
       "      <td>NaN</td>\n",
       "      <td>165</td>\n",
       "      <td>2182732</td>\n",
       "    </tr>\n",
       "    <tr>\n",
       "      <th>16504</th>\n",
       "      <td>2022</td>\n",
       "      <td>2</td>\n",
       "      <td>ZEQUINHA MARINHO</td>\n",
       "      <td>Passagens aéreas, aquáticas e terrestres nacio...</td>\n",
       "      <td>22.052.777/0001-32</td>\n",
       "      <td>Exceller Tour</td>\n",
       "      <td>UBTD6L</td>\n",
       "      <td>04/02/2022</td>\n",
       "      <td>Companhia Aérea: AZUL, Localizador: UBTD6L. Pa...</td>\n",
       "      <td>1627,34</td>\n",
       "      <td>2174203</td>\n",
       "    </tr>\n",
       "    <tr>\n",
       "      <th>11706</th>\n",
       "      <td>2022</td>\n",
       "      <td>7</td>\n",
       "      <td>MECIAS DE JESUS</td>\n",
       "      <td>Aluguel de imóveis para escritório político, c...</td>\n",
       "      <td>02.558.157/0001-62</td>\n",
       "      <td>VIVO - TELEFONIA BRASIL S/A</td>\n",
       "      <td>218665471</td>\n",
       "      <td>16/07/2022</td>\n",
       "      <td>NaN</td>\n",
       "      <td>319,99</td>\n",
       "      <td>2185032</td>\n",
       "    </tr>\n",
       "    <tr>\n",
       "      <th>12959</th>\n",
       "      <td>2022</td>\n",
       "      <td>11</td>\n",
       "      <td>PAULO ROCHA</td>\n",
       "      <td>Passagens aéreas, aquáticas e terrestres nacio...</td>\n",
       "      <td>16.978.175/0001-08</td>\n",
       "      <td>Adria Viagens e Turismo Ltda</td>\n",
       "      <td>YQUXBO</td>\n",
       "      <td>08/11/2022</td>\n",
       "      <td>Companhia Aérea: LATAM, Localizador: YQUXBO. P...</td>\n",
       "      <td>3311,53</td>\n",
       "      <td>2190173</td>\n",
       "    </tr>\n",
       "  </tbody>\n",
       "</table>\n",
       "</div>"
      ],
      "text/plain": [
       "0       ANO MES             SENADOR  \\\n",
       "13296  2022   6  RANDOLFE RODRIGUES   \n",
       "3911   2022   6     ESPERIDIÃO AMIN   \n",
       "16504  2022   2    ZEQUINHA MARINHO   \n",
       "11706  2022   7     MECIAS DE JESUS   \n",
       "12959  2022  11         PAULO ROCHA   \n",
       "\n",
       "0                                           TIPO_DESPESA            CNPJ_CPF  \\\n",
       "13296  Aluguel de imóveis para escritório político, c...  07.656.757/0001-87   \n",
       "3911   Aluguel de imóveis para escritório político, c...  81.853.798/0001-16   \n",
       "16504  Passagens aéreas, aquáticas e terrestres nacio...  22.052.777/0001-32   \n",
       "11706  Aluguel de imóveis para escritório político, c...  02.558.157/0001-62   \n",
       "12959  Passagens aéreas, aquáticas e terrestres nacio...  16.978.175/0001-08   \n",
       "\n",
       "0                                      FORNECEDOR  DOCUMENTO        DATA  \\\n",
       "13296                                Você Telecom    1789923  20/06/2022   \n",
       "3911   Regis Comércio e Serviços Hidraulicos Ltda      17964  27/06/2022   \n",
       "16504                               Exceller Tour     UBTD6L  04/02/2022   \n",
       "11706                 VIVO - TELEFONIA BRASIL S/A  218665471  16/07/2022   \n",
       "12959                Adria Viagens e Turismo Ltda     YQUXBO  08/11/2022   \n",
       "\n",
       "0                                           DETALHAMENTO VALOR_REEMBOLSADO  \\\n",
       "13296                                           Internet            279,89   \n",
       "3911                                                 NaN               165   \n",
       "16504  Companhia Aérea: AZUL, Localizador: UBTD6L. Pa...           1627,34   \n",
       "11706                                                NaN            319,99   \n",
       "12959  Companhia Aérea: LATAM, Localizador: YQUXBO. P...           3311,53   \n",
       "\n",
       "0     COD_DOCUMENTO  \n",
       "13296       2184000  \n",
       "3911        2182732  \n",
       "16504       2174203  \n",
       "11706       2185032  \n",
       "12959       2190173  "
      ]
     },
     "execution_count": 7,
     "metadata": {},
     "output_type": "execute_result"
    }
   ],
   "source": [
    "    df.sample(5)"
   ]
  },
  {
   "cell_type": "code",
   "execution_count": 8,
   "id": "6181b55a",
   "metadata": {},
   "outputs": [
    {
     "data": {
      "text/plain": [
       "(16782, 11)"
      ]
     },
     "execution_count": 8,
     "metadata": {},
     "output_type": "execute_result"
    }
   ],
   "source": [
    "# Verificar a quantidade de linhas e colunas\n",
    "df.shape"
   ]
  },
  {
   "cell_type": "code",
   "execution_count": 9,
   "id": "7436d519",
   "metadata": {},
   "outputs": [
    {
     "data": {
      "text/plain": [
       "0\n",
       "ANO                  object\n",
       "MES                  object\n",
       "SENADOR              object\n",
       "TIPO_DESPESA         object\n",
       "CNPJ_CPF             object\n",
       "FORNECEDOR           object\n",
       "DOCUMENTO            object\n",
       "DATA                 object\n",
       "DETALHAMENTO         object\n",
       "VALOR_REEMBOLSADO    object\n",
       "COD_DOCUMENTO        object\n",
       "dtype: object"
      ]
     },
     "execution_count": 9,
     "metadata": {},
     "output_type": "execute_result"
    }
   ],
   "source": [
    "# Corrigir os tipos de dados das variáveis\n",
    "df.dtypes"
   ]
  },
  {
   "cell_type": "code",
   "execution_count": 10,
   "id": "8a4f23e2",
   "metadata": {},
   "outputs": [],
   "source": [
    "# Alteração do cabeçalho\n",
    "var_col = [nome.capitalize() for nome in df.columns]\n",
    "df.columns = var_col"
   ]
  },
  {
   "cell_type": "code",
   "execution_count": 11,
   "id": "4b293b89",
   "metadata": {},
   "outputs": [
    {
     "data": {
      "text/html": [
       "<div>\n",
       "<style scoped>\n",
       "    .dataframe tbody tr th:only-of-type {\n",
       "        vertical-align: middle;\n",
       "    }\n",
       "\n",
       "    .dataframe tbody tr th {\n",
       "        vertical-align: top;\n",
       "    }\n",
       "\n",
       "    .dataframe thead th {\n",
       "        text-align: right;\n",
       "    }\n",
       "</style>\n",
       "<table border=\"1\" class=\"dataframe\">\n",
       "  <thead>\n",
       "    <tr style=\"text-align: right;\">\n",
       "      <th></th>\n",
       "      <th>Ano</th>\n",
       "      <th>Mes</th>\n",
       "      <th>Senador</th>\n",
       "      <th>Tipo_despesa</th>\n",
       "      <th>Cnpj_cpf</th>\n",
       "      <th>Fornecedor</th>\n",
       "      <th>Documento</th>\n",
       "      <th>Data</th>\n",
       "      <th>Detalhamento</th>\n",
       "      <th>Valor_reembolsado</th>\n",
       "      <th>Cod_documento</th>\n",
       "    </tr>\n",
       "  </thead>\n",
       "  <tbody>\n",
       "    <tr>\n",
       "      <th>1</th>\n",
       "      <td>2022</td>\n",
       "      <td>1</td>\n",
       "      <td>Acir gurgacz</td>\n",
       "      <td>Aluguel de imóveis para escritório político, c...</td>\n",
       "      <td>004.948.028-63</td>\n",
       "      <td>Gilberto piselo do nascimento</td>\n",
       "      <td>001/22</td>\n",
       "      <td>03/01/2022</td>\n",
       "      <td>Despesa com pagamento de aluguel de imóvel par...</td>\n",
       "      <td>6000</td>\n",
       "      <td>2173614</td>\n",
       "    </tr>\n",
       "    <tr>\n",
       "      <th>2</th>\n",
       "      <td>2022</td>\n",
       "      <td>1</td>\n",
       "      <td>Acir gurgacz</td>\n",
       "      <td>Divulgação da atividade parlamentar</td>\n",
       "      <td>26.320.603/0001-64</td>\n",
       "      <td>Informanahora</td>\n",
       "      <td>000000000000310/A</td>\n",
       "      <td>04/01/2022</td>\n",
       "      <td>Despesa com divulgação da atividade parlamenta...</td>\n",
       "      <td>1500</td>\n",
       "      <td>2173615</td>\n",
       "    </tr>\n",
       "    <tr>\n",
       "      <th>3</th>\n",
       "      <td>2022</td>\n",
       "      <td>1</td>\n",
       "      <td>Acir gurgacz</td>\n",
       "      <td>Divulgação da atividade parlamentar</td>\n",
       "      <td>13.659.201/0001-47</td>\n",
       "      <td>Linha purpura foto e video ltda</td>\n",
       "      <td>107</td>\n",
       "      <td>14/01/2022</td>\n",
       "      <td>Despesa com produção de texto e edição de víde...</td>\n",
       "      <td>6000</td>\n",
       "      <td>2173616</td>\n",
       "    </tr>\n",
       "    <tr>\n",
       "      <th>4</th>\n",
       "      <td>2022</td>\n",
       "      <td>1</td>\n",
       "      <td>Acir gurgacz</td>\n",
       "      <td>Divulgação da atividade parlamentar</td>\n",
       "      <td>23.652.846/0001-01</td>\n",
       "      <td>Roberto gutierrez da rocha m.e.i.</td>\n",
       "      <td>187</td>\n",
       "      <td>18/01/2022</td>\n",
       "      <td>Divulgação da atividade parlamentar</td>\n",
       "      <td>1000</td>\n",
       "      <td>2173618</td>\n",
       "    </tr>\n",
       "    <tr>\n",
       "      <th>5</th>\n",
       "      <td>2022</td>\n",
       "      <td>1</td>\n",
       "      <td>Acir gurgacz</td>\n",
       "      <td>Divulgação da atividade parlamentar</td>\n",
       "      <td>08.941.827/0001-01</td>\n",
       "      <td>Rondonia dinâmica com. e serv. de informática ...</td>\n",
       "      <td>000000000001772/A</td>\n",
       "      <td>17/01/2022</td>\n",
       "      <td>Divulgação da atividade parlamentar</td>\n",
       "      <td>2000</td>\n",
       "      <td>2173617</td>\n",
       "    </tr>\n",
       "  </tbody>\n",
       "</table>\n",
       "</div>"
      ],
      "text/plain": [
       "    Ano Mes       Senador                                       Tipo_despesa  \\\n",
       "1  2022   1  Acir gurgacz  Aluguel de imóveis para escritório político, c...   \n",
       "2  2022   1  Acir gurgacz                Divulgação da atividade parlamentar   \n",
       "3  2022   1  Acir gurgacz                Divulgação da atividade parlamentar   \n",
       "4  2022   1  Acir gurgacz                Divulgação da atividade parlamentar   \n",
       "5  2022   1  Acir gurgacz                Divulgação da atividade parlamentar   \n",
       "\n",
       "             Cnpj_cpf                                         Fornecedor  \\\n",
       "1      004.948.028-63                      Gilberto piselo do nascimento   \n",
       "2  26.320.603/0001-64                                      Informanahora   \n",
       "3  13.659.201/0001-47                    Linha purpura foto e video ltda   \n",
       "4  23.652.846/0001-01                  Roberto gutierrez da rocha m.e.i.   \n",
       "5  08.941.827/0001-01  Rondonia dinâmica com. e serv. de informática ...   \n",
       "\n",
       "           Documento        Data  \\\n",
       "1             001/22  03/01/2022   \n",
       "2  000000000000310/A  04/01/2022   \n",
       "3                107  14/01/2022   \n",
       "4                187  18/01/2022   \n",
       "5  000000000001772/A  17/01/2022   \n",
       "\n",
       "                                        Detalhamento Valor_reembolsado  \\\n",
       "1  Despesa com pagamento de aluguel de imóvel par...              6000   \n",
       "2  Despesa com divulgação da atividade parlamenta...              1500   \n",
       "3  Despesa com produção de texto e edição de víde...              6000   \n",
       "4                Divulgação da atividade parlamentar              1000   \n",
       "5                Divulgação da atividade parlamentar              2000   \n",
       "\n",
       "  Cod_documento  \n",
       "1       2173614  \n",
       "2       2173615  \n",
       "3       2173616  \n",
       "4       2173618  \n",
       "5       2173617  "
      ]
     },
     "metadata": {},
     "output_type": "display_data"
    }
   ],
   "source": [
    "# Capitalizando as variáveis\n",
    "var_senador = [nome.capitalize() for nome in df['Senador']]\n",
    "df['Senador'] = var_senador\n",
    "\n",
    "var_fornecedor = [nome.capitalize() for nome in df['Fornecedor']]\n",
    "df['Fornecedor'] = var_fornecedor\n",
    "\n",
    "display(df.head(5))"
   ]
  },
  {
   "cell_type": "code",
   "execution_count": 15,
   "id": "56668500",
   "metadata": {},
   "outputs": [],
   "source": [
    "# Conversão da variável para data\n",
    "df['Data'] = pd.to_datetime(df['Data'])"
   ]
  },
  {
   "cell_type": "code",
   "execution_count": 13,
   "id": "d84b52ac",
   "metadata": {},
   "outputs": [],
   "source": [
    "# Alteração do separador ',' para '.' e transformação para Float\n",
    "df['Valor_reembolsado'] = df['Valor_reembolsado'].str.replace(',','.')\n",
    "df['Valor_reembolsado'] = df['Valor_reembolsado'].astype(float)"
   ]
  },
  {
   "cell_type": "code",
   "execution_count": 14,
   "id": "5f375db7",
   "metadata": {},
   "outputs": [
    {
     "data": {
      "text/plain": [
       "10356    4501.00\n",
       "1511      165.00\n",
       "9293      217.18\n",
       "12590     115.34\n",
       "9764      290.91\n",
       "798       100.00\n",
       "1774     1531.33\n",
       "12812      50.00\n",
       "9236      168.80\n",
       "2637     4050.00\n",
       "Name: Valor_reembolsado, dtype: float64"
      ]
     },
     "execution_count": 14,
     "metadata": {},
     "output_type": "execute_result"
    }
   ],
   "source": [
    "df.Valor_reembolsado.sample(10)"
   ]
  },
  {
   "cell_type": "code",
   "execution_count": 16,
   "id": "9a17fbb9",
   "metadata": {},
   "outputs": [
    {
     "data": {
      "text/plain": [
       "Ano                          object\n",
       "Mes                          object\n",
       "Senador                      object\n",
       "Tipo_despesa                 object\n",
       "Cnpj_cpf                     object\n",
       "Fornecedor                   object\n",
       "Documento                    object\n",
       "Data                 datetime64[ns]\n",
       "Detalhamento                 object\n",
       "Valor_reembolsado           float64\n",
       "Cod_documento                object\n",
       "dtype: object"
      ]
     },
     "execution_count": 16,
     "metadata": {},
     "output_type": "execute_result"
    }
   ],
   "source": [
    "df.dtypes"
   ]
  },
  {
   "cell_type": "code",
   "execution_count": 17,
   "id": "74f48f96",
   "metadata": {},
   "outputs": [],
   "source": [
    "# Excluindo colunas não utilizáveis\n",
    "df = df.drop(columns=['Documento'], axis=1)"
   ]
  },
  {
   "cell_type": "code",
   "execution_count": 18,
   "id": "2bac2d35",
   "metadata": {},
   "outputs": [
    {
     "data": {
      "text/plain": [
       "Ano                     0\n",
       "Mes                     0\n",
       "Senador                 0\n",
       "Tipo_despesa            0\n",
       "Cnpj_cpf                0\n",
       "Fornecedor              0\n",
       "Data                    0\n",
       "Detalhamento         7720\n",
       "Valor_reembolsado       0\n",
       "Cod_documento           0\n",
       "dtype: int64"
      ]
     },
     "execution_count": 18,
     "metadata": {},
     "output_type": "execute_result"
    }
   ],
   "source": [
    "# Verificação das células vazias\n",
    "df.isnull().sum()"
   ]
  },
  {
   "cell_type": "code",
   "execution_count": 182,
   "id": "07549f42",
   "metadata": {},
   "outputs": [
    {
     "data": {
      "text/plain": [
       "Senador\n",
       "Angelo coronel        36096.47\n",
       "Acir gurgacz          35679.46\n",
       "Alessandro vieira     30851.05\n",
       "Alexandre silveira    21964.89\n",
       "Alvaro dias           14050.24\n",
       "Name: Valor_reembolsado, dtype: float64"
      ]
     },
     "execution_count": 182,
     "metadata": {},
     "output_type": "execute_result"
    }
   ],
   "source": [
    "valorMes"
   ]
  },
  {
   "cell_type": "code",
   "execution_count": 179,
   "id": "45d4a35a",
   "metadata": {},
   "outputs": [],
   "source": [
    "df.to_csv('Clean_despesas_CEASP.csv', sep=';')"
   ]
  }
 ],
 "metadata": {
  "kernelspec": {
   "display_name": "Python 3 (ipykernel)",
   "language": "python",
   "name": "python3"
  },
  "language_info": {
   "codemirror_mode": {
    "name": "ipython",
    "version": 3
   },
   "file_extension": ".py",
   "mimetype": "text/x-python",
   "name": "python",
   "nbconvert_exporter": "python",
   "pygments_lexer": "ipython3",
   "version": "3.9.12"
  }
 },
 "nbformat": 4,
 "nbformat_minor": 5
}
